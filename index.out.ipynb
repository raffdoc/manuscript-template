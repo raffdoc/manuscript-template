{
 "cells": [
  {
   "cell_type": "markdown",
   "metadata": {},
   "source": [
    "# Clinical Trial On Pleural Cavity Opening During Median Sternotomy\n",
    "\n",
    "Rafik Margaryan, MD, PhD [![](data:image/png;base64,iVBORw0KGgoAAAANSUhEUgAAABAAAAAQCAYAAAAf8/9hAAAAGXRFWHRTb2Z0d2FyZQBBZG9iZSBJbWFnZVJlYWR5ccllPAAAA2ZpVFh0WE1MOmNvbS5hZG9iZS54bXAAAAAAADw/eHBhY2tldCBiZWdpbj0i77u/IiBpZD0iVzVNME1wQ2VoaUh6cmVTek5UY3prYzlkIj8+IDx4OnhtcG1ldGEgeG1sbnM6eD0iYWRvYmU6bnM6bWV0YS8iIHg6eG1wdGs9IkFkb2JlIFhNUCBDb3JlIDUuMC1jMDYwIDYxLjEzNDc3NywgMjAxMC8wMi8xMi0xNzozMjowMCAgICAgICAgIj4gPHJkZjpSREYgeG1sbnM6cmRmPSJodHRwOi8vd3d3LnczLm9yZy8xOTk5LzAyLzIyLXJkZi1zeW50YXgtbnMjIj4gPHJkZjpEZXNjcmlwdGlvbiByZGY6YWJvdXQ9IiIgeG1sbnM6eG1wTU09Imh0dHA6Ly9ucy5hZG9iZS5jb20veGFwLzEuMC9tbS8iIHhtbG5zOnN0UmVmPSJodHRwOi8vbnMuYWRvYmUuY29tL3hhcC8xLjAvc1R5cGUvUmVzb3VyY2VSZWYjIiB4bWxuczp4bXA9Imh0dHA6Ly9ucy5hZG9iZS5jb20veGFwLzEuMC8iIHhtcE1NOk9yaWdpbmFsRG9jdW1lbnRJRD0ieG1wLmRpZDo1N0NEMjA4MDI1MjA2ODExOTk0QzkzNTEzRjZEQTg1NyIgeG1wTU06RG9jdW1lbnRJRD0ieG1wLmRpZDozM0NDOEJGNEZGNTcxMUUxODdBOEVCODg2RjdCQ0QwOSIgeG1wTU06SW5zdGFuY2VJRD0ieG1wLmlpZDozM0NDOEJGM0ZGNTcxMUUxODdBOEVCODg2RjdCQ0QwOSIgeG1wOkNyZWF0b3JUb29sPSJBZG9iZSBQaG90b3Nob3AgQ1M1IE1hY2ludG9zaCI+IDx4bXBNTTpEZXJpdmVkRnJvbSBzdFJlZjppbnN0YW5jZUlEPSJ4bXAuaWlkOkZDN0YxMTc0MDcyMDY4MTE5NUZFRDc5MUM2MUUwNEREIiBzdFJlZjpkb2N1bWVudElEPSJ4bXAuZGlkOjU3Q0QyMDgwMjUyMDY4MTE5OTRDOTM1MTNGNkRBODU3Ii8+IDwvcmRmOkRlc2NyaXB0aW9uPiA8L3JkZjpSREY+IDwveDp4bXBtZXRhPiA8P3hwYWNrZXQgZW5kPSJyIj8+84NovQAAAR1JREFUeNpiZEADy85ZJgCpeCB2QJM6AMQLo4yOL0AWZETSqACk1gOxAQN+cAGIA4EGPQBxmJA0nwdpjjQ8xqArmczw5tMHXAaALDgP1QMxAGqzAAPxQACqh4ER6uf5MBlkm0X4EGayMfMw/Pr7Bd2gRBZogMFBrv01hisv5jLsv9nLAPIOMnjy8RDDyYctyAbFM2EJbRQw+aAWw/LzVgx7b+cwCHKqMhjJFCBLOzAR6+lXX84xnHjYyqAo5IUizkRCwIENQQckGSDGY4TVgAPEaraQr2a4/24bSuoExcJCfAEJihXkWDj3ZAKy9EJGaEo8T0QSxkjSwORsCAuDQCD+QILmD1A9kECEZgxDaEZhICIzGcIyEyOl2RkgwAAhkmC+eAm0TAAAAABJRU5ErkJggg==)](https://orcid.org/0000-0001-6005-472X) (KGB, Moscow)  \n",
    "Giacomo Bianchi, MD, PhD [![](data:image/png;base64,iVBORw0KGgoAAAANSUhEUgAAABAAAAAQCAYAAAAf8/9hAAAAGXRFWHRTb2Z0d2FyZQBBZG9iZSBJbWFnZVJlYWR5ccllPAAAA2ZpVFh0WE1MOmNvbS5hZG9iZS54bXAAAAAAADw/eHBhY2tldCBiZWdpbj0i77u/IiBpZD0iVzVNME1wQ2VoaUh6cmVTek5UY3prYzlkIj8+IDx4OnhtcG1ldGEgeG1sbnM6eD0iYWRvYmU6bnM6bWV0YS8iIHg6eG1wdGs9IkFkb2JlIFhNUCBDb3JlIDUuMC1jMDYwIDYxLjEzNDc3NywgMjAxMC8wMi8xMi0xNzozMjowMCAgICAgICAgIj4gPHJkZjpSREYgeG1sbnM6cmRmPSJodHRwOi8vd3d3LnczLm9yZy8xOTk5LzAyLzIyLXJkZi1zeW50YXgtbnMjIj4gPHJkZjpEZXNjcmlwdGlvbiByZGY6YWJvdXQ9IiIgeG1sbnM6eG1wTU09Imh0dHA6Ly9ucy5hZG9iZS5jb20veGFwLzEuMC9tbS8iIHhtbG5zOnN0UmVmPSJodHRwOi8vbnMuYWRvYmUuY29tL3hhcC8xLjAvc1R5cGUvUmVzb3VyY2VSZWYjIiB4bWxuczp4bXA9Imh0dHA6Ly9ucy5hZG9iZS5jb20veGFwLzEuMC8iIHhtcE1NOk9yaWdpbmFsRG9jdW1lbnRJRD0ieG1wLmRpZDo1N0NEMjA4MDI1MjA2ODExOTk0QzkzNTEzRjZEQTg1NyIgeG1wTU06RG9jdW1lbnRJRD0ieG1wLmRpZDozM0NDOEJGNEZGNTcxMUUxODdBOEVCODg2RjdCQ0QwOSIgeG1wTU06SW5zdGFuY2VJRD0ieG1wLmlpZDozM0NDOEJGM0ZGNTcxMUUxODdBOEVCODg2RjdCQ0QwOSIgeG1wOkNyZWF0b3JUb29sPSJBZG9iZSBQaG90b3Nob3AgQ1M1IE1hY2ludG9zaCI+IDx4bXBNTTpEZXJpdmVkRnJvbSBzdFJlZjppbnN0YW5jZUlEPSJ4bXAuaWlkOkZDN0YxMTc0MDcyMDY4MTE5NUZFRDc5MUM2MUUwNEREIiBzdFJlZjpkb2N1bWVudElEPSJ4bXAuZGlkOjU3Q0QyMDgwMjUyMDY4MTE5OTRDOTM1MTNGNkRBODU3Ii8+IDwvcmRmOkRlc2NyaXB0aW9uPiA8L3JkZjpSREY+IDwveDp4bXBtZXRhPiA8P3hwYWNrZXQgZW5kPSJyIj8+84NovQAAAR1JREFUeNpiZEADy85ZJgCpeCB2QJM6AMQLo4yOL0AWZETSqACk1gOxAQN+cAGIA4EGPQBxmJA0nwdpjjQ8xqArmczw5tMHXAaALDgP1QMxAGqzAAPxQACqh4ER6uf5MBlkm0X4EGayMfMw/Pr7Bd2gRBZogMFBrv01hisv5jLsv9nLAPIOMnjy8RDDyYctyAbFM2EJbRQw+aAWw/LzVgx7b+cwCHKqMhjJFCBLOzAR6+lXX84xnHjYyqAo5IUizkRCwIENQQckGSDGY4TVgAPEaraQr2a4/24bSuoExcJCfAEJihXkWDj3ZAKy9EJGaEo8T0QSxkjSwORsCAuDQCD+QILmD1A9kECEZgxDaEZhICIzGcIyEyOl2RkgwAAhkmC+eAm0TAAAAABJRU5ErkJggg==)](https://orcid.org/0000-0003-4240-0099) (FBI, Washington)  \n",
    "April 14, 2025\n",
    "\n",
    "Clinicsl Trials are the backbone of the modern medicine. They are the only way to test securly a hypothesis and to put out an evidence based medicine. In this paper we will discuss the first and second stage of a clinical trial on how to make sternotomy without opening plerual cavities."
   ],
   "id": "5b97e147-bc85-483c-ba13-e7508e65d2d7"
  },
  {
   "cell_type": "code",
   "execution_count": null,
   "metadata": {},
   "outputs": [
    {
     "output_type": "stream",
     "name": "stderr",
     "text": [
      "── Attaching core tidyverse packages ──────────────────────── tidyverse 2.0.0 ──\n",
      "✔ dplyr     1.1.4     ✔ readr     2.1.5\n",
      "✔ forcats   1.0.0     ✔ stringr   1.5.1\n",
      "✔ ggplot2   3.5.1     ✔ tibble    3.2.1\n",
      "✔ lubridate 1.9.4     ✔ tidyr     1.3.1\n",
      "✔ purrr     1.0.4     \n",
      "── Conflicts ────────────────────────────────────────── tidyverse_conflicts() ──\n",
      "✖ dplyr::filter() masks stats::filter()\n",
      "✖ dplyr::lag()    masks stats::lag()\n",
      "ℹ Use the conflicted package (<http://conflicted.r-lib.org/>) to force all conflicts to become errors"
     ]
    },
    {
     "output_type": "stream",
     "name": "stderr",
     "text": [
      "You can cite this package as:\n",
      "     Patil, I. (2021). Visualizations with statistical details: The 'ggstatsplot' approach.\n",
      "     Journal of Open Source Software, 6(61), 3167, doi:10.21105/joss.03167"
     ]
    }
   ],
   "source": [
    "library(tidyverse)"
   ],
   "id": "cbaf2fdd-8897-401d-8849-d228e7731154"
  },
  {
   "cell_type": "markdown",
   "metadata": {},
   "source": [
    "## 1 Introduction\n",
    "\n",
    "The median sternotomy is a common surgical approach used in cardiac surgery. It provides access to the heart and great vessels, allowing for various procedures such as coronary artery bypass grafting (CABG), valve repair or replacement, and aortic surgery([Angelini and Newby 1989](#ref-angelini1989)). However, one of the potential complications of median sternotomy is the opening of the pleural cavities, which can lead to postoperative complications such as pneumothorax, hemothorax, and respiratory distress.\n",
    "\n",
    "## 2 Material & Methods\n",
    "\n",
    "Patients were randomly assigned to two groups: the experimental group, which underwent median sternotomy with lungs down 10 second and two thorax compression, and the control group without this maneuver. The primary outcome was the incidence of pleural cavity opening given two operators, hospital mortality. Secondary outcomes included length of hospital stay and postoperative pain from drenages. The data was collected from a single center and included demographic information, surgical details, and postoperative outcomes. The data was analyzed using statistical software to compare the outcomes between the two groups.\n",
    "\n",
    "### 2.1 Statistical Inference\n",
    "\n",
    "All data was collected prospectively by multiple operators in a shared single file with version control. The all manuscript was written using Quarto Manuscript writing system with R programming incorporated. The article is published using the github pages on authors personal page. All the code and relevant data is available on [github page](https://github.com/raffdoc/manuscript-template).\n",
    "\n",
    "## 3 Results\n",
    "\n",
    "There were 1 (2.272727%) patient with hospital mortality in the control group and and none in experimental group (p = 0.32). The mean age of patients in the experimental group was 67.9 $\\pm$ 5.6 years, while in the control group it was 69.6 $\\pm$ 6.0 years (p = 0.18). The body mass index (BMI) was also compared between the two groups, with a mean BMI of 31.0 $\\pm$ 6.0 in the experimental group and 30.8 $\\pm$ 6.9 in the control group <a href=\"#fig-bmi\" class=\"quarto-xref\">Figure 2</a>. The results showed that the experimental group had a lower incidence of pleural cavity opening compared to the control group <a href=\"#fig-pl-open\" class=\"quarto-xref\">Figure 1</a>. The length of hospital stay was also shorter in the experimental group, indicating a potential benefit of the new approach.\n",
    "\n",
    "## 4 Conclusion\n",
    "\n",
    "The results of this study suggest that the new approach to median sternotomy with lungs down 10 second and two thorax compression may reduce the incidence of pleural cavity opening and improve postoperative outcomes. Further studies with larger cohort and wider patients’ population group are needed to confirm these findings and evaluate the long-term effects of this technique.\n",
    "\n",
    "## 5 Figures"
   ],
   "id": "1b5c1c58-9f1a-4987-bfc2-bd2f05f3a2cb"
  },
  {
   "cell_type": "code",
   "execution_count": null,
   "metadata": {},
   "outputs": [
    {
     "output_type": "display_data",
     "metadata": {},
     "data": {}
    }
   ],
   "source": [
    "ggbarstats(\n",
    "  data         = df,\n",
    "  x            = trt,\n",
    "  y            = outcome,\n",
    "  package      = \"wesanderson\",\n",
    "  palette      = \"Darjeeling2\" # ,\n",
    "  # ggtheme      = ggthemes::theme_tufte(base_size = 12)\n",
    ")"
   ],
   "id": "cell-fig-pl-open"
  },
  {
   "cell_type": "code",
   "execution_count": null,
   "metadata": {},
   "outputs": [
    {
     "output_type": "display_data",
     "metadata": {},
     "data": {}
    }
   ],
   "source": [
    "ggbetweenstats(\n",
    "  data = df,\n",
    "  x = trt,\n",
    "  y = bmi,\n",
    "  pairwise.display = \"p-value\",\n",
    "  p.adjust.method = \"bonferroni\",\n",
    "  var.equal = TRUE,\n",
    "  title = \"BMI by treatment group\"\n",
    ")"
   ],
   "id": "cell-fig-bmi"
  },
  {
   "cell_type": "markdown",
   "metadata": {},
   "source": [
    "## 6 Tables"
   ],
   "id": "b434d4ec-93d3-4889-b636-a53d3a4d0c3b"
  },
  {
   "cell_type": "code",
   "execution_count": null,
   "metadata": {},
   "outputs": [
    {
     "output_type": "stream",
     "name": "stderr",
     "text": [
      "The following errors were returned during `add_p()`:\n",
      "✖ For variable `age` (`trt`) and \"p.value\" statistic: The package \"cardx\" (>=\n",
      "  0.2.3) is required.\n",
      "✖ For variable `bmi` (`trt`) and \"p.value\" statistic: The package \"cardx\" (>=\n",
      "  0.2.3) is required.\n",
      "✖ For variable `copd` (`trt`) and \"p.value\" statistic: The package \"cardx\" (>=\n",
      "  0.2.3) is required.\n",
      "✖ For variable `diabetis` (`trt`) and \"p.value\" statistic: The package \"cardx\"\n",
      "  (>= 0.2.3) is required.\n",
      "✖ For variable `hospital_mortality` (`trt`) and \"p.value\" statistic: The\n",
      "  package \"cardx\" (>= 0.2.3) is required.\n",
      "✖ For variable `hospital_stay` (`trt`) and \"p.value\" statistic: The package\n",
      "  \"cardx\" (>= 0.2.3) is required.\n",
      "✖ For variable `outcome` (`trt`) and \"p.value\" statistic: The package \"cardx\"\n",
      "  (>= 0.2.3) is required.\n",
      "✖ For variable `sex` (`trt`) and \"p.value\" statistic: The package \"cardx\" (>=\n",
      "  0.2.3) is required.\n",
      "✖ For variable `steroids` (`trt`) and \"p.value\" statistic: The package \"cardx\"\n",
      "  (>= 0.2.3) is required."
     ]
    }
   ],
   "source": [
    "theme_gtsummary_journal(set_theme = \"nejm\")\n",
    "\n",
    "df |>\n",
    "  select(trt, outcome, bmi, diabetis, \n",
    "         copd, steroids, hospital_mortality,\n",
    "         hospital_stay, age,\n",
    "         sex) |>\n",
    "  tbl_summary(\n",
    "    by = trt,\n",
    "    label = list(\n",
    "      outcome ~ \"Pleural cavity opening\",\n",
    "      bmi ~ \"Body Mass Index\",\n",
    "      diabetis ~ \"Diabetis\"\n",
    "    ),\n",
    "    statistic = all_continuous() ~ \"{mean} ({sd})\",\n",
    "    missing_text = \"Missing\"\n",
    "  ) |>\n",
    "  add_p() |>\n",
    "  add_overall()"
   ],
   "id": "045e6621-29c6-44ea-b622-960a5547b6d1"
  },
  {
   "cell_type": "markdown",
   "metadata": {},
   "source": [
    "## 7 Discussion\n",
    "\n",
    "We have conducted a clinical trial to evaluate the effectiveness of a new approach to median sternotomy in reducing the incidence of pleural cavity opening. Other studies have shown that median sternotomy can lead to complications such as pneumothorax and hemothorax, which can significantly impact postoperative outcomes([Gullu et al. 2009](#ref-gullu2009)).\n",
    "\n",
    "The results of this study suggest that the new approach may be beneficial in improving postoperative outcomes. There are several limitations to this study, including the small sample size and the single-center design.\n",
    "\n",
    "## 8 Acknowledgements\n",
    "\n",
    "This study was supported by institutional committee. The authors would like to thank all the patients who participated in this study and the medical staff for their support.\n",
    "\n",
    "## References\n",
    "\n",
    "Angelini, G. D., and A. C. Newby. 1989. “The future of saphenous vein as a coronary artery bypass conduit.” *European Heart Journal* 10 (3): 273–80. <https://doi.org/10.1093/oxfordjournals.eurheartj.a059476>.\n",
    "\n",
    "Gullu, Ahmet Umit, Abdurrahman Ekinci, Yavuz Sensoz, Mehmet Kızılay, Sahin Senay, Ahmet Arnaz, Turkan Coruh, Mehmet Ates, and Murat Akcar. 2009. “Preserved Pleural Integrity Provides Better Respiratory Function and Pain Score After Coronary Surgery.” *Journal of Cardiac Surgery* 24 (4): 374–78. <https://doi.org/10.1111/j.1540-8191.2008.00734.x>."
   ],
   "id": "695ff085-8bc6-4e60-82c2-556207479478"
  }
 ],
 "nbformat": 4,
 "nbformat_minor": 5,
 "metadata": {}
}
