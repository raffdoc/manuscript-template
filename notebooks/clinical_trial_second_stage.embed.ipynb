{
 "cells": [
  {
   "cell_type": "markdown",
   "metadata": {},
   "source": [
    "# Second Stage"
   ],
   "id": "71a8244c-6672-40be-9de3-215547a06917"
  },
  {
   "cell_type": "code",
   "execution_count": null,
   "metadata": {},
   "outputs": [
    {
     "output_type": "stream",
     "name": "stderr",
     "text": [
      "── Attaching core tidyverse packages ──────────────────────── tidyverse 2.0.0 ──\n",
      "✔ dplyr     1.1.4     ✔ readr     2.1.5\n",
      "✔ forcats   1.0.0     ✔ stringr   1.5.1\n",
      "✔ ggplot2   3.5.1     ✔ tibble    3.2.1\n",
      "✔ lubridate 1.9.4     ✔ tidyr     1.3.1\n",
      "✔ purrr     1.0.4     \n",
      "── Conflicts ────────────────────────────────────────── tidyverse_conflicts() ──\n",
      "✖ dplyr::filter() masks stats::filter()\n",
      "✖ dplyr::lag()    masks stats::lag()\n",
      "ℹ Use the conflicted package (<http://conflicted.r-lib.org/>) to force all conflicts to become errors"
     ]
    }
   ],
   "source": [
    "library(tidyverse)"
   ],
   "id": "d4b929bb-5fae-4908-9021-16222405b76a"
  },
  {
   "cell_type": "markdown",
   "metadata": {},
   "source": [
    "# First stage report"
   ],
   "id": "fd52a8b5-58cc-48a0-b2f4-3c018c07b569"
  },
  {
   "cell_type": "code",
   "execution_count": null,
   "metadata": {},
   "outputs": [],
   "source": [
    "load(\"../data/data.RData\")"
   ],
   "id": "ba3268f2-ef7c-40d0-91f4-4f4a1d7b798a"
  },
  {
   "cell_type": "code",
   "execution_count": null,
   "metadata": {},
   "outputs": [
    {
     "output_type": "display_data",
     "metadata": {},
     "data": {
      "text/html": [
       "\n",
       "</div>"
      ],
      "text/markdown": [
       "  -------------------------------------------------------------------------------------------------------------------------------------------------------------------\n",
       "  [**Characteristic**]{.quarto-scaffold .hidden}                                    [**N = 60**]{.quarto-scaffold .hidden}[^1^]{.gt_footnote_marks\n",
       "                                                                                    style=\"white-space:nowrap;font-style:italic;font-weight:normal;line-height:0;\"}\n",
       "  --------------------------------------------------------------------------------- ---------------------------------------------------------------------------------\n",
       "  trt                                                                               \\\n",
       "\n",
       "      case                                                                          30 (50%)\n",
       "\n",
       "      control                                                                       30 (50%)\n",
       "\n",
       "  outcome                                                                           \\\n",
       "\n",
       "      close                                                                         34 (57%)\n",
       "\n",
       "      open                                                                          26 (43%)\n",
       "\n",
       "  bmi                                                                               32 (26, 36)\n",
       "\n",
       "  diabetis                                                                          24 (40%)\n",
       "\n",
       "  [^1^]{.gt_footnote_marks                                                          \n",
       "  style=\"white-space:nowrap;font-style:italic;font-weight:normal;line-height:0;\"}   \n",
       "  [n (%); Median (Q1, Q3)]{.quarto-scaffold .hidden}                                \n",
       "  -------------------------------------------------------------------------------------------------------------------------------------------------------------------\n"
      ]
     }
    }
   ],
   "source": [
    "#| label: tbl-demo-stage2\n",
    "#| echo: false\n",
    "#| tbl-cap: \"Demographics of the second stage stage\"\n",
    "second_stage_data_raw |>\n",
    "  select(trt, outcome, bmi, diabetis) |>\n",
    "  tbl_summary() "
   ],
   "id": "c4ed71b4-3a9c-4232-9426-f9b25b64eb02"
  }
 ],
 "nbformat": 4,
 "nbformat_minor": 5,
 "metadata": {}
}
