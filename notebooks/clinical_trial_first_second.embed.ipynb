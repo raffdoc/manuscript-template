{
 "cells": [
  {
   "cell_type": "markdown",
   "metadata": {},
   "source": [
    "# First Stage"
   ],
   "id": "962eeb4e-c155-4dcc-9581-825c9d5108ca"
  },
  {
   "cell_type": "code",
   "execution_count": null,
   "metadata": {},
   "outputs": [
    {
     "output_type": "stream",
     "name": "stderr",
     "text": [
      "── Attaching core tidyverse packages ──────────────────────── tidyverse 2.0.0 ──\n",
      "✔ dplyr     1.1.4     ✔ readr     2.1.5\n",
      "✔ forcats   1.0.0     ✔ stringr   1.5.1\n",
      "✔ ggplot2   3.5.1     ✔ tibble    3.2.1\n",
      "✔ lubridate 1.9.4     ✔ tidyr     1.3.1\n",
      "✔ purrr     1.0.4     \n",
      "── Conflicts ────────────────────────────────────────── tidyverse_conflicts() ──\n",
      "✖ dplyr::filter() masks stats::filter()\n",
      "✖ dplyr::lag()    masks stats::lag()\n",
      "ℹ Use the conflicted package (<http://conflicted.r-lib.org/>) to force all conflicts to become errors"
     ]
    }
   ],
   "source": [
    "library(tidyverse)"
   ],
   "id": "4193976f-d117-4145-a01d-84f950f878b0"
  },
  {
   "cell_type": "markdown",
   "metadata": {},
   "source": [
    "# First stage report"
   ],
   "id": "b4258e17-a48a-48c9-9900-cb405bc878c1"
  },
  {
   "cell_type": "code",
   "execution_count": null,
   "metadata": {},
   "outputs": [
    {
     "output_type": "stream",
     "name": "stderr",
     "text": [
      "! Using an auto-discovered, cached token."
     ]
    },
    {
     "output_type": "stream",
     "name": "stderr",
     "text": [
      "  To suppress this message, modify your code or options to clearly consent to\n",
      "  the use of a cached token."
     ]
    },
    {
     "output_type": "stream",
     "name": "stderr",
     "text": [
      "  See gargle's \"Non-interactive auth\" vignette for more details:"
     ]
    },
    {
     "output_type": "stream",
     "name": "stderr",
     "text": [
      "  <https://gargle.r-lib.org/articles/non-interactive-auth.html>"
     ]
    },
    {
     "output_type": "stream",
     "name": "stderr",
     "text": [
      "ℹ The googlesheets4 package is using a cached token for 'margaryan@ftgm.it'."
     ]
    },
    {
     "output_type": "stream",
     "name": "stderr",
     "text": [
      "✔ Reading from \"test_clinical_trial\"."
     ]
    },
    {
     "output_type": "stream",
     "name": "stderr",
     "text": [
      "✔ Range ''stage2''."
     ]
    }
   ],
   "source": [
    "first_stage_data_raw <- read_sheet(\"https://docs.google.com/spreadsheets/d/12EZz5S6ummuC9x5kwpWkjX7-l5bErUbtRZeJufXLK_o/edit?usp=sharing\", sheet = \"stage2\")"
   ],
   "id": "2fdd1575-a475-4c84-92e7-8b35542deb2e"
  },
  {
   "cell_type": "code",
   "execution_count": null,
   "metadata": {},
   "outputs": [
    {
     "output_type": "display_data",
     "metadata": {},
     "data": {
      "text/html": [
       "\n",
       "</div>"
      ],
      "text/markdown": [
       "  -------------------------------------------------------------------------------------------------------------------------------------------------------------------\n",
       "  [**Characteristic**]{.quarto-scaffold .hidden}                                    [**N = 60**]{.quarto-scaffold .hidden}[^1^]{.gt_footnote_marks\n",
       "                                                                                    style=\"white-space:nowrap;font-style:italic;font-weight:normal;line-height:0;\"}\n",
       "  --------------------------------------------------------------------------------- ---------------------------------------------------------------------------------\n",
       "  trt                                                                               \\\n",
       "\n",
       "      case                                                                          30 (50%)\n",
       "\n",
       "      control                                                                       30 (50%)\n",
       "\n",
       "  outcome                                                                           \\\n",
       "\n",
       "      close                                                                         34 (57%)\n",
       "\n",
       "      open                                                                          26 (43%)\n",
       "\n",
       "  bmi                                                                               32 (26, 36)\n",
       "\n",
       "  diabetis                                                                          24 (40%)\n",
       "\n",
       "  [^1^]{.gt_footnote_marks                                                          \n",
       "  style=\"white-space:nowrap;font-style:italic;font-weight:normal;line-height:0;\"}   \n",
       "  [n (%); Median (Q1, Q3)]{.quarto-scaffold .hidden}                                \n",
       "  -------------------------------------------------------------------------------------------------------------------------------------------------------------------\n"
      ]
     }
    }
   ],
   "source": [
    "#| label: tbl-demo-stage2\n",
    "#| echo: false\n",
    "#| tbl-cap: \"Demographics of the first stage\"\n",
    "first_stage_data_raw |>\n",
    "  select(trt, outcome, bmi, diabetis) |>\n",
    "  tbl_summary() "
   ],
   "id": "55a6b2b0-360b-4b49-a910-537770a31494"
  }
 ],
 "nbformat": 4,
 "nbformat_minor": 5,
 "metadata": {}
}
